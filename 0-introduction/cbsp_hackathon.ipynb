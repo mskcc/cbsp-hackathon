{
 "cells": [
  {
   "cell_type": "markdown",
   "metadata": {},
   "source": [
    "# Computation Biology Summer Program Hackathon"
   ]
  },
  {
   "cell_type": "markdown",
   "metadata": {},
   "source": [
    "This [Jupyter notebook](https://jupyter.org/) gives examples on how to use the various [REST](https://en.wikipedia.org/wiki/Representational_state_transfer) web services from the [Knowledge Systems Group](https://www.mskcc.org/research-areas/labs/nikolaus-schultz). In this hackathon we will pull data from those APIs to make visualizations."
   ]
  },
  {
   "cell_type": "markdown",
   "metadata": {},
   "source": [
    "## How to run the notebook"
   ]
  },
  {
   "cell_type": "markdown",
   "metadata": {},
   "source": [
    "This notebook can be executed on your own machine after installing Jupyter. Please install the Python 3 version of anaconda: https://www.anaconda.com/download/. After having that set up you can install Jupyter with:\n",
    "\n",
    "```bash\n",
    "conda install jupyter\n",
    "\n",
    "```\n",
    "\n",
    "For these examples we also require the [Swagger API](https://swagger.io/specification/) client `bravado`.\n",
    "\n",
    "```bash\n",
    "conda install -c conda-forge bravado\n",
    "```\n",
    "\n",
    "And the popular data analysis libraries pandas, matplotlib and seaborn:\n",
    "\n",
    "```\n",
    "conda install pandas matplotlib seaborn\n",
    "```\n",
    "\n",
    "Then clone this repo:\n",
    "\n",
    "```\n",
    "git clone https://github.com/mskcc/cbsp-hackathon\n",
    "```\n",
    "\n",
    "And run Jupyter in this folder\n",
    "```\n",
    "cd cbsp-hackathon/0-introduction\n",
    "jupyter\n",
    "```\n",
    "That should open Jupyter in a new browser window and you should be able to open this notebook using the web interface. You can then follow along with the next steps."
   ]
  },
  {
   "cell_type": "markdown",
   "metadata": {},
   "source": [
    "## How to use the notebook"
   ]
  },
  {
   "cell_type": "markdown",
   "metadata": {},
   "source": [
    "The notebook consists of cells which can be executed by clicking on one and pressing shift+f. In the toolbar at the top there is a dropdown which indicates what type of cell you have selected e.g. `Code` or [Markdown](https://en.wikipedia.org/wiki/Markdown). The former will be executed as raw Python code the latter is a markup language and will be run through a Markdown parser. Both generate HTML that will be printed directly to the notebook page.\n",
    "\n",
    "There a few keyboard shortcuts that are good to know. That is: `b` creates a new cell below the one you've selected and `a` above the one you selected. Editing a cell can be done with a single click for a code cell and a double click for a Markdown cell. A complete list of all keyboard shortcuts can be found by pressing the keyboard icon in the toolbar at the top.\n",
    "\n",
    " Give it a shot by editing one of the cells and pressing shift+f."
   ]
  },
  {
   "cell_type": "markdown",
   "metadata": {},
   "source": [
    "## Using the REST APIs"
   ]
  },
  {
   "cell_type": "markdown",
   "metadata": {},
   "source": [
    "All [REST](https://en.wikipedia.org/wiki/Representational_state_transfer) web services from the [Knowledge Systems Group](https://www.mskcc.org/research-areas/labs/nikolaus-schultz) we will be using in this tutorial have their REST APIs defined following the [Open API / Swagger specification](https://swagger.io/specification/). This allows us to use `bravado` to connect to them directly, and explore the API interactively.\n",
    "\n",
    "For example this is how to connect to the [cBioPortal](https://www.cbioportal.org) API:"
   ]
  },
  {
   "cell_type": "code",
   "execution_count": 1,
   "metadata": {},
   "outputs": [
    {
     "name": "stdout",
     "output_type": "stream",
     "text": [
      "SwaggerClient(https://www.cbioportal.org/api)\n"
     ]
    }
   ],
   "source": [
    "from bravado.client import SwaggerClient\n",
    "\n",
    "cbioportal = SwaggerClient.from_url('https://www.cbioportal.org/api/v2/api-docs',\n",
    "                                config={\"validate_requests\":False,\"validate_responses\":False,\"validate_swagger_spec\":False})\n",
    "print(cbioportal)"
   ]
  },
  {
   "cell_type": "markdown",
   "metadata": {},
   "source": [
    "You can now explore the API by using code completion, press `Tab` after typing `cbioportal.`:"
   ]
  },
  {
   "cell_type": "code",
   "execution_count": null,
   "metadata": {},
   "outputs": [],
   "source": [
    "cbioportal."
   ]
  },
  {
   "cell_type": "markdown",
   "metadata": {},
   "source": [
    "This will give a dropdown with all the different APIs, similar to how you can see them here on the cBioPortal website: https://www.cbioportal.org/api/swagger-ui/index.html.\n",
    "\n",
    "You can get the name of an endpoint by going to that website and clicking on any of the endpoints. The URL will then update to show the name of the endpoint. For example, the endpoint for getting a cancer type is `getCancerTypesUsingGET`, which shows up on the website as https://www.cbioportal.org/api/swagger-ui/index.html#/Cancer%20Types/getCancerTypeUsingGET."
   ]
  },
  {
   "cell_type": "markdown",
   "metadata": {},
   "source": [
    "The documentation shows one of the parameters is `cancerTypeId` of type `string`, the example `acc` is mentioned:"
   ]
  },
  {
   "cell_type": "code",
   "execution_count": 5,
   "metadata": {},
   "outputs": [
    {
     "name": "stdout",
     "output_type": "stream",
     "text": [
      "TypeOfCancer(cancerTypeId='acc', dedicatedColor='Purple', name='Adrenocortical Carcinoma', parent='adrenal_gland', shortName='ACC')\n"
     ]
    }
   ],
   "source": [
    "acc = cbioportal.Cancer_Types.getCancerTypeUsingGET(cancerTypeId='acc').result()\n",
    "print(acc)"
   ]
  },
  {
   "cell_type": "markdown",
   "metadata": {},
   "source": [
    "You can see that the JSON output returned by the cBioPortal API gets automatically converted into an object called `TypeOfCancer`. This object can be explored interactively after typing `acc.`:"
   ]
  },
  {
   "cell_type": "code",
   "execution_count": null,
   "metadata": {
    "collapsed": true
   },
   "outputs": [],
   "source": [
    "acc."
   ]
  },
  {
   "cell_type": "markdown",
   "metadata": {},
   "source": [
    "### cBioPortal API"
   ]
  },
  {
   "cell_type": "markdown",
   "metadata": {},
   "source": [
    "[cBioPortal](https://www.cbioportal.org) stores cancer genomics data from a large number of published studies. Let's figure out:\n",
    "\n",
    "- how many studies are there?\n",
    "- how many cancer types do they span?\n",
    "- how many samples in total?\n",
    "- which study has the largest number of samples?"
   ]
  },
  {
   "cell_type": "code",
   "execution_count": 6,
   "metadata": {},
   "outputs": [
    {
     "name": "stdout",
     "output_type": "stream",
     "text": [
      "In total there are 411 studies in cBioPortal, spanning 885 different types of cancer.\n"
     ]
    }
   ],
   "source": [
    "studies = cbioportal.Studies.getAllStudiesUsingGET().result()\n",
    "cancer_types = cbioportal.Cancer_Types.getAllCancerTypesUsingGET().result()\n",
    "\n",
    "print(\"In total there are {} studies in cBioPortal, spanning {} different types of cancer.\".format(\n",
    "    len(studies),\n",
    "    len(cancer_types)\n",
    "))"
   ]
  },
  {
   "cell_type": "markdown",
   "metadata": {},
   "source": [
    "To get the total number of samples in each study we have to look a bit more at the response of the studies endpoint:"
   ]
  },
  {
   "cell_type": "code",
   "execution_count": 7,
   "metadata": {},
   "outputs": [
    {
     "data": {
      "text/plain": [
       "['allSampleCount',\n",
       " 'cancerType',\n",
       " 'cancerTypeId',\n",
       " 'citation',\n",
       " 'cnaSampleCount',\n",
       " 'completeSampleCount',\n",
       " 'description',\n",
       " 'groups',\n",
       " 'importDate',\n",
       " 'massSpectrometrySampleCount',\n",
       " 'methylationHm27SampleCount',\n",
       " 'miRnaSampleCount',\n",
       " 'mrnaMicroarraySampleCount',\n",
       " 'mrnaRnaSeqSampleCount',\n",
       " 'mrnaRnaSeqV2SampleCount',\n",
       " 'name',\n",
       " 'pmid',\n",
       " 'publicStudy',\n",
       " 'readPermission',\n",
       " 'referenceGenome',\n",
       " 'rppaSampleCount',\n",
       " 'sequencedSampleCount',\n",
       " 'status',\n",
       " 'studyId',\n",
       " 'treatmentCount']"
      ]
     },
     "execution_count": 7,
     "metadata": {},
     "output_type": "execute_result"
    }
   ],
   "source": [
    "dir(studies[0])"
   ]
  },
  {
   "cell_type": "markdown",
   "metadata": {},
   "source": [
    "We can sum the `allSampleCount` values of each study in cBioPortal:"
   ]
  },
  {
   "cell_type": "code",
   "execution_count": 10,
   "metadata": {},
   "outputs": [
    {
     "name": "stdout",
     "output_type": "stream",
     "text": [
      "The total number of samples in all studies is: 264449\n"
     ]
    }
   ],
   "source": [
    "print(\"The total number of samples in all studies is: {}\".format(sum([x.allSampleCount for x in studies])))"
   ]
  },
  {
   "cell_type": "markdown",
   "metadata": {},
   "source": [
    "Let's see which study has the largest number of samples:"
   ]
  },
  {
   "cell_type": "code",
   "execution_count": 11,
   "metadata": {},
   "outputs": [
    {
     "data": {
      "text/plain": [
       "CancerStudy(allSampleCount=47530, cancerType=None, cancerTypeId='mixed', citation='Stonestrom et al. Blood Adv 2023', cnaSampleCount=None, completeSampleCount=None, description='Clonal hematopoiesis mutations identified in blood samples from 47,532 patients whose tumor-blood pairs were analyzed using MSK-IMPACT.', groups='', importDate='2023-12-21 13:11:31', massSpectrometrySampleCount=None, methylationHm27SampleCount=None, miRnaSampleCount=None, mrnaMicroarraySampleCount=None, mrnaRnaSeqSampleCount=None, mrnaRnaSeqV2SampleCount=None, name='Cancer Therapy and Clonal Hematopoiesis (MSK, Blood Adv 2023)', pmid=None, publicStudy=True, readPermission=True, referenceGenome='hg19', rppaSampleCount=None, sequencedSampleCount=None, status=0, studyId='msk_ch_2023', treatmentCount=None)"
      ]
     },
     "execution_count": 11,
     "metadata": {},
     "output_type": "execute_result"
    }
   ],
   "source": [
    "sorted_studies = sorted(studies, key=lambda x: x.allSampleCount)\n",
    "sorted_studies[-1]"
   ]
  },
  {
   "cell_type": "markdown",
   "metadata": {},
   "source": [
    "Now that we've answered the inital questions we can dig a little deeper into this specific study:\n",
    "\n",
    "- How many patients are in this study?\n",
    "- What gene is most commonly mutated across the different samples?\n",
    "- Does this study span one or more types of cancer?\n",
    "\n",
    "The description of the study with id `msk_impact_2017` study mentions there are 10,000 patients sequenced. Can we find this data in the cBioPortal?"
   ]
  },
  {
   "cell_type": "code",
   "execution_count": 12,
   "metadata": {},
   "outputs": [
    {
     "name": "stdout",
     "output_type": "stream",
     "text": [
      "The msk_impact_2017 study spans 10336 patients\n"
     ]
    }
   ],
   "source": [
    "patients = cbioportal.Patients.getAllPatientsInStudyUsingGET(studyId='msk_impact_2017').result()\n",
    "print(\"The msk_impact_2017 study spans {} patients\".format(len(patients)))"
   ]
  },
  {
   "cell_type": "markdown",
   "metadata": {},
   "source": [
    "Now let's try to figure out what gene is most commonly mutated. For this we can check the endpoints in the group `K_Mutations`. When looking at these endpoints it seems that a study can have multiple molecular profiles. This is because samples might have been sequenced using different assays (e.g. targeting a subset of genes or all genes). An example for the `acc_tcga` study is given for a molecular profile (`acc_tcga_mutations`) and a collection of samples (`msk_impact_2017_all`). We can use the same approach for the `msk_impact_2017` study. This will take a few seconds.  You can use the command `%%time` to time a cell):"
   ]
  },
  {
   "cell_type": "code",
   "execution_count": 13,
   "metadata": {},
   "outputs": [
    {
     "name": "stdout",
     "output_type": "stream",
     "text": [
      "CPU times: user 1.07 s, sys: 51 ms, total: 1.12 s\n",
      "Wall time: 4.81 s\n"
     ]
    }
   ],
   "source": [
    "%%time\n",
    "\n",
    "mutations = cbioportal.Mutations.getMutationsInMolecularProfileBySampleListIdUsingGET(\n",
    "    molecularProfileId='msk_impact_2017_mutations',\n",
    "    sampleListId='msk_impact_2017_all'\n",
    ").result()"
   ]
  },
  {
   "cell_type": "markdown",
   "metadata": {},
   "source": [
    "We can explore what the mutation data structure looks like:"
   ]
  },
  {
   "cell_type": "code",
   "execution_count": 14,
   "metadata": {
    "scrolled": false
   },
   "outputs": [
    {
     "data": {
      "text/plain": [
       "Mutation(alleleSpecificCopyNumber=None, aminoAcidChange=None, center='NA', chr='9', driverFilter=None, driverFilterAnnotation=None, driverTiersFilter=None, driverTiersFilterAnnotation=None, endPosition=133760514, entrezGeneId=25, gene=None, keyword='ABL1 truncating', molecularProfileId='msk_impact_2017_mutations', mutationStatus='NA', mutationType='Frame_Shift_Del', namespaceColumns=None, ncbiBuild='GRCh37', normalAltCount=None, normalRefCount=None, patientId='P-0000507', proteinChange='K947Sfs*122', proteinPosEnd=947, proteinPosStart=946, referenceAllele='C', refseqMrnaId='NM_005157.4', sampleId='P-0000507-T01-IM3', startPosition=133760514, studyId='msk_impact_2017', tumorAltCount=80, tumorRefCount=759, uniquePatientKey='UC0wMDAwNTA3Om1za19pbXBhY3RfMjAxNw', uniqueSampleKey='UC0wMDAwNTA3LVQwMS1JTTM6bXNrX2ltcGFjdF8yMDE3', validationStatus='NA', variantAllele='-', variantType='DEL')"
      ]
     },
     "execution_count": 14,
     "metadata": {},
     "output_type": "execute_result"
    }
   ],
   "source": [
    "mutations[0]"
   ]
  },
  {
   "cell_type": "markdown",
   "metadata": {},
   "source": [
    "It seems that the `gene` field is not filled in. To keep the response size of the API small, the API uses a parameter called `projection` that indicates whether or not to return all fields of an object or only a portion of the fields. By default it will use the `SUMMARY` projection. But because in this case we want to `gene` information, we'll use the `DETAILED` projection instead, so let's update the previous statement:"
   ]
  },
  {
   "cell_type": "code",
   "execution_count": 15,
   "metadata": {},
   "outputs": [
    {
     "name": "stdout",
     "output_type": "stream",
     "text": [
      "CPU times: user 1.55 s, sys: 91.4 ms, total: 1.64 s\n",
      "Wall time: 6.05 s\n"
     ]
    }
   ],
   "source": [
    "%%time \n",
    "\n",
    "mutations = cbioportal.Mutations.getMutationsInMolecularProfileBySampleListIdUsingGET(\n",
    "    molecularProfileId='msk_impact_2017_mutations',\n",
    "    sampleListId='msk_impact_2017_all',\n",
    "    projection='DETAILED'\n",
    ").result()"
   ]
  },
  {
   "cell_type": "markdown",
   "metadata": {},
   "source": [
    "You can see the response time is slightly slower. Let's check if the gene field is filled in now:"
   ]
  },
  {
   "cell_type": "code",
   "execution_count": 16,
   "metadata": {},
   "outputs": [
    {
     "data": {
      "text/plain": [
       "Mutation(alleleSpecificCopyNumber=None, aminoAcidChange=None, center='NA', chr='9', driverFilter=None, driverFilterAnnotation=None, driverTiersFilter=None, driverTiersFilterAnnotation=None, endPosition=133760514, entrezGeneId=25, gene=Gene(entrezGeneId=25, geneticEntityId=None, hugoGeneSymbol='ABL1', type='protein-coding'), keyword='ABL1 truncating', molecularProfileId='msk_impact_2017_mutations', mutationStatus='NA', mutationType='Frame_Shift_Del', namespaceColumns=None, ncbiBuild='GRCh37', normalAltCount=None, normalRefCount=None, patientId='P-0000507', proteinChange='K947Sfs*122', proteinPosEnd=947, proteinPosStart=946, referenceAllele='C', refseqMrnaId='NM_005157.4', sampleId='P-0000507-T01-IM3', startPosition=133760514, studyId='msk_impact_2017', tumorAltCount=80, tumorRefCount=759, uniquePatientKey='UC0wMDAwNTA3Om1za19pbXBhY3RfMjAxNw', uniqueSampleKey='UC0wMDAwNTA3LVQwMS1JTTM6bXNrX2ltcGFjdF8yMDE3', validationStatus='NA', variantAllele='-', variantType='DEL')"
      ]
     },
     "execution_count": 16,
     "metadata": {},
     "output_type": "execute_result"
    }
   ],
   "source": [
    "mutations[0]"
   ]
  },
  {
   "cell_type": "markdown",
   "metadata": {},
   "source": [
    "Now that we have the gene field we can check what gene is most commonly mutated: "
   ]
  },
  {
   "cell_type": "code",
   "execution_count": 17,
   "metadata": {},
   "outputs": [
    {
     "data": {
      "text/plain": [
       "[('TP53', 4954),\n",
       " ('APC', 1674),\n",
       " ('KRAS', 1670),\n",
       " ('TERT', 1549),\n",
       " ('PIK3CA', 1517)]"
      ]
     },
     "execution_count": 17,
     "metadata": {},
     "output_type": "execute_result"
    }
   ],
   "source": [
    "from collections import Counter\n",
    "mutation_counts = Counter([m.gene.hugoGeneSymbol for m in mutations])\n",
    "mutation_counts.most_common(5)"
   ]
  },
  {
   "cell_type": "markdown",
   "metadata": {},
   "source": [
    "We can verify that these results are correct by looking at the study view of the MSK-IMPACT study on the cBioPortal website: https://www.cbioportal.org/study/summary?id=msk_impact_2017. Note that the website uses the REST API we've been using in this hackathon, so we would expect those numbers to be the same, but good to do a sanity check. We see that the number of patients is indeed 10,336. But the number of samples with a mutation in TP53 is 4,561 instead of 4,985. Can you spot why they differ?\n",
    "\n",
    "Next question:\n",
    "\n",
    "- How many samples have a TP53 mutation?\n",
    "\n",
    "For this exercise it might be useful to use a [pandas dataframe](https://pandas.pydata.org/) to be able to do grouping operations. You can convert the mutations result to a dataframe like this:"
   ]
  },
  {
   "cell_type": "code",
   "execution_count": 18,
   "metadata": {},
   "outputs": [],
   "source": [
    "import pandas as pd\n",
    "\n",
    "mdf = pd.DataFrame.from_dict([\n",
    "    # python magic that combines two dictionaries:\n",
    "    dict(\n",
    "        {k:getattr(m,k) for k in dir(m)},\n",
    "        **{k:getattr(m.gene,k) for k in dir(m.gene)}) \n",
    "    # create one item in the list for each mutation\n",
    "    for m in mutations\n",
    "])"
   ]
  },
  {
   "cell_type": "markdown",
   "metadata": {},
   "source": [
    "The DataFrame is a data type originally from `Matlab` and `R` that makes it easier to work with columnar data. Pandas brings that data type to Python. There are also several performance optimizations by it using the data types from [numpy](https://www.numpy.org/).\n",
    "\n",
    "Now that you have the data in a Dataframe you can group the mutations by the gene name and count the number of unique samples in TP53:"
   ]
  },
  {
   "cell_type": "code",
   "execution_count": 19,
   "metadata": {},
   "outputs": [
    {
     "name": "stdout",
     "output_type": "stream",
     "text": [
      "There are 4538 samples with a mutation in TP53\n"
     ]
    }
   ],
   "source": [
    "sample_count_per_gene = mdf.groupby('hugoGeneSymbol')['uniqueSampleKey'].nunique()\n",
    "\n",
    "print(\"There are {} samples with a mutation in TP53\".format(\n",
    "    sample_count_per_gene['TP53']\n",
    "))"
   ]
  },
  {
   "cell_type": "markdown",
   "metadata": {},
   "source": [
    "It would be nice to visualize this result in context of the other genes by plotting the top 10 most mutated genes. For this you can use the matplotlib interface that integrates with pandas.\n",
    "\n",
    "First  inline plotting in the notebook:"
   ]
  },
  {
   "cell_type": "code",
   "execution_count": 21,
   "metadata": {},
   "outputs": [],
   "source": [
    "%matplotlib inline"
   ]
  },
  {
   "cell_type": "code",
   "execution_count": 22,
   "metadata": {},
   "outputs": [
    {
     "data": {
      "text/plain": [
       "<Axes: xlabel='hugoGeneSymbol'>"
      ]
     },
     "execution_count": 22,
     "metadata": {},
     "output_type": "execute_result"
    },
    {
     "data": {
      "image/png": "[encoded data removed]",
      "text/plain": [
       "<Figure size 640x480 with 1 Axes>"
      ]
     },
     "metadata": {},
     "output_type": "display_data"
    }
   ],
   "source": [
    "sample_count_per_gene.sort_values(ascending=False).head(10).plot(kind='bar')"
   ]
  },
  {
   "cell_type": "markdown",
   "metadata": {},
   "source": [
    "Make it look a little nicer by importing seaborn:"
   ]
  },
  {
   "cell_type": "code",
   "execution_count": 24,
   "metadata": {},
   "outputs": [],
   "source": [
    "import seaborn as sns\n",
    "sns.set_style(\"white\")\n",
    "sns.set_context('notebook')"
   ]
  },
  {
   "cell_type": "code",
   "execution_count": 25,
   "metadata": {},
   "outputs": [
    {
     "data": {
      "image/png": "[encoded data removed]",
      "text/plain": [
       "<Figure size 640x480 with 1 Axes>"
      ]
     },
     "metadata": {},
     "output_type": "display_data"
    }
   ],
   "source": [
    "sample_count_per_gene.sort_values(ascending=False).head(10).plot(kind='bar')\n",
    "sns.despine(trim=False)"
   ]
  },
  {
   "cell_type": "markdown",
   "metadata": {},
   "source": [
    "You can further change the plot a bit by using the arguments to the plot function or using the matplotlib interface directly:"
   ]
  },
  {
   "cell_type": "code",
   "execution_count": 26,
   "metadata": {},
   "outputs": [
    {
     "data": {
      "text/plain": [
       "Text(0.5, 1.0, 'Number of mutations in genes in MSK-IMPACT (2017)')"
      ]
     },
     "execution_count": 26,
     "metadata": {},
     "output_type": "execute_result"
    },
    {
     "data": {
      "image/png": "[encoded data removed]",
      "text/plain": [
       "<Figure size 640x480 with 1 Axes>"
      ]
     },
     "metadata": {},
     "output_type": "display_data"
    }
   ],
   "source": [
    "import matplotlib.pyplot as plt\n",
    "\n",
    "sample_count_per_gene.sort_values(ascending=False).head(10).plot(\n",
    "    kind='bar',\n",
    "    ylim=[0,5000],\n",
    "    color='green'\n",
    ")\n",
    "sns.despine(trim=False)\n",
    "plt.xlabel('')\n",
    "plt.xticks(rotation=300)\n",
    "plt.ylabel('Number of samples',labelpad=20)\n",
    "plt.title('Number of mutations in genes in MSK-IMPACT (2017)',pad=25)"
   ]
  },
  {
   "cell_type": "markdown",
   "metadata": {},
   "source": [
    "A further extension of this plot could be to color the bar chart by the type of mutation in that sample (`mdf.mutationType`) and to include copy number alterations (see `Discrete Copy Number Alterations` endpoints)."
   ]
  },
  {
   "cell_type": "markdown",
   "metadata": {},
   "source": [
    "### Genome Nexus API"
   ]
  },
  {
   "cell_type": "markdown",
   "metadata": {},
   "source": [
    "[Genome Nexus](https://www.genomenexus.org) is a web service that aggregates all cancer related information about a particular mutation. Similarly to cBioPortal it provides a REST API following the [Swagger / OpenAPI specification](https://swagger.io/specification/)."
   ]
  },
  {
   "cell_type": "code",
   "execution_count": 27,
   "metadata": {},
   "outputs": [
    {
     "name": "stdout",
     "output_type": "stream",
     "text": [
      "SwaggerClient(https://www.genomenexus.org/)\n"
     ]
    }
   ],
   "source": [
    "from bravado.client import SwaggerClient\n",
    "\n",
    "gn = SwaggerClient.from_url('https://www.genomenexus.org/v2/api-docs',\n",
    "                            config={\"validate_requests\":False,\n",
    "                                    \"validate_responses\":False,\n",
    "                                    \"validate_swagger_spec\":False})\n",
    "print(gn)"
   ]
  },
  {
   "cell_type": "markdown",
   "metadata": {},
   "source": [
    "To look up annotations for a single variant, one can use the following endpoint:"
   ]
  },
  {
   "cell_type": "code",
   "execution_count": 28,
   "metadata": {},
   "outputs": [],
   "source": [
    "variant = gn.annotation_controller.fetchVariantAnnotationByGenomicLocationGET(\n",
    "    genomicLocation='7,140453136,140453136,A,T',\n",
    "    # adds extra annotation resources, not included in default response:\n",
    "    fields='hotspots annotation_summary'.split()\n",
    ").result()"
   ]
  },
  {
   "cell_type": "markdown",
   "metadata": {},
   "source": [
    "You can see a lot of information is provided for that particular variant if you type tab after `variant.`:"
   ]
  },
  {
   "cell_type": "code",
   "execution_count": null,
   "metadata": {
    "collapsed": true
   },
   "outputs": [],
   "source": [
    "variant."
   ]
  },
  {
   "cell_type": "markdown",
   "metadata": {},
   "source": [
    "For this example we will focus on the hotspot annotation and ignore the others. [Cancer hotspots](https://www.cancerhotspots.org/) is a popular web resource  which indicates whether particular variants have been found to be recurrently mutated in large scale cancer genomics data.\n",
    "\n",
    "The example variant above is a hotspot:"
   ]
  },
  {
   "cell_type": "code",
   "execution_count": 28,
   "metadata": {},
   "outputs": [
    {
     "data": {
      "text/plain": [
       "HotspotAnnotation(annotation=[[Hotspot(hugoSymbol='BRAF', inframeCount=0, missenseCount=897, residue='V600', spliceCount=0, transcriptId='ENST00000288602', truncatingCount=0, tumorCount=897, type='single residue'), Hotspot(hugoSymbol='BRAF', inframeCount=None, missenseCount=None, residue='V600', spliceCount=None, transcriptId='ENST00000288602', truncatingCount=None, tumorCount=545, type='3d')], [], [], []], license='https://opendatacommons.org/licenses/odbl/1.0/')"
      ]
     },
     "execution_count": 28,
     "metadata": {},
     "output_type": "execute_result"
    }
   ],
   "source": [
    "variant.hotspots"
   ]
  },
  {
   "cell_type": "markdown",
   "metadata": {},
   "source": [
    "Let's see how many hotspot mutations there are in the Cholangiocarcinoma (TCGA, PanCancer Atlas) study with study id `chol_tcga_pan_can_atlas_2018` from the cBioPortal:"
   ]
  },
  {
   "cell_type": "code",
   "execution_count": 29,
   "metadata": {
    "scrolled": true
   },
   "outputs": [
    {
     "ename": "HTTPNotFound",
     "evalue": "404 ",
     "output_type": "error",
     "traceback": [
      "\u001b[0;31m---------------------------------------------------------------------------\u001b[0m",
      "\u001b[0;31mHTTPNotFound\u001b[0m                              Traceback (most recent call last)",
      "File \u001b[0;32m<timed exec>:1\u001b[0m\n",
      "File \u001b[0;32m~/miniconda3/lib/python3.11/site-packages/bravado/client.py:98\u001b[0m, in \u001b[0;36mSwaggerClient.from_url\u001b[0;34m(cls, spec_url, http_client, request_headers, config)\u001b[0m\n\u001b[1;32m     96\u001b[0m http_client \u001b[38;5;241m=\u001b[39m http_client \u001b[38;5;129;01mor\u001b[39;00m RequestsClient()\n\u001b[1;32m     97\u001b[0m loader \u001b[38;5;241m=\u001b[39m Loader(http_client, request_headers\u001b[38;5;241m=\u001b[39mrequest_headers)\n\u001b[0;32m---> 98\u001b[0m spec_dict \u001b[38;5;241m=\u001b[39m \u001b[43mloader\u001b[49m\u001b[38;5;241;43m.\u001b[39;49m\u001b[43mload_spec\u001b[49m\u001b[43m(\u001b[49m\u001b[43mspec_url\u001b[49m\u001b[43m)\u001b[49m\n\u001b[1;32m    100\u001b[0m \u001b[38;5;66;03m# RefResolver may have to download additional json files (remote refs)\u001b[39;00m\n\u001b[1;32m    101\u001b[0m \u001b[38;5;66;03m# via http. Wrap http_client's request() so that request headers are\u001b[39;00m\n\u001b[1;32m    102\u001b[0m \u001b[38;5;66;03m# passed along with the request transparently. Yeah, this is not ideal,\u001b[39;00m\n\u001b[1;32m    103\u001b[0m \u001b[38;5;66;03m# but since RefResolver has new found responsibilities, it is\u001b[39;00m\n\u001b[1;32m    104\u001b[0m \u001b[38;5;66;03m# functional.\u001b[39;00m\n\u001b[1;32m    105\u001b[0m \u001b[38;5;28;01mif\u001b[39;00m request_headers \u001b[38;5;129;01mis\u001b[39;00m \u001b[38;5;129;01mnot\u001b[39;00m \u001b[38;5;28;01mNone\u001b[39;00m:\n",
      "File \u001b[0;32m~/miniconda3/lib/python3.11/site-packages/bravado/swagger_model.py:105\u001b[0m, in \u001b[0;36mLoader.load_spec\u001b[0;34m(self, spec_url, base_url)\u001b[0m\n\u001b[1;32m     94\u001b[0m \u001b[38;5;28;01mdef\u001b[39;00m \u001b[38;5;21mload_spec\u001b[39m(\u001b[38;5;28mself\u001b[39m, spec_url, base_url\u001b[38;5;241m=\u001b[39m\u001b[38;5;28;01mNone\u001b[39;00m):\n\u001b[1;32m     95\u001b[0m \u001b[38;5;250m    \u001b[39m\u001b[38;5;124;03m\"\"\"Load a Swagger Spec from the given URL\u001b[39;00m\n\u001b[1;32m     96\u001b[0m \n\u001b[1;32m     97\u001b[0m \u001b[38;5;124;03m    :param spec_url: URL to swagger.json\u001b[39;00m\n\u001b[1;32m     98\u001b[0m \u001b[38;5;124;03m    :param base_url: TODO: need this?\u001b[39;00m\n\u001b[1;32m     99\u001b[0m \u001b[38;5;124;03m    :returns: json spec in dict form\u001b[39;00m\n\u001b[1;32m    100\u001b[0m \u001b[38;5;124;03m    \"\"\"\u001b[39;00m\n\u001b[1;32m    101\u001b[0m     response \u001b[38;5;241m=\u001b[39m \u001b[43mrequest\u001b[49m\u001b[43m(\u001b[49m\n\u001b[1;32m    102\u001b[0m \u001b[43m        \u001b[49m\u001b[38;5;28;43mself\u001b[39;49m\u001b[38;5;241;43m.\u001b[39;49m\u001b[43mhttp_client\u001b[49m\u001b[43m,\u001b[49m\n\u001b[1;32m    103\u001b[0m \u001b[43m        \u001b[49m\u001b[43mspec_url\u001b[49m\u001b[43m,\u001b[49m\n\u001b[1;32m    104\u001b[0m \u001b[43m        \u001b[49m\u001b[38;5;28;43mself\u001b[39;49m\u001b[38;5;241;43m.\u001b[39;49m\u001b[43mrequest_headers\u001b[49m\u001b[43m,\u001b[49m\n\u001b[0;32m--> 105\u001b[0m \u001b[43m    \u001b[49m\u001b[43m)\u001b[49m\u001b[38;5;241;43m.\u001b[39;49m\u001b[43mresult\u001b[49m\u001b[43m(\u001b[49m\u001b[43m)\u001b[49m\n\u001b[1;32m    107\u001b[0m     content_type \u001b[38;5;241m=\u001b[39m response\u001b[38;5;241m.\u001b[39mheaders\u001b[38;5;241m.\u001b[39mget(\u001b[38;5;124m'\u001b[39m\u001b[38;5;124mcontent-type\u001b[39m\u001b[38;5;124m'\u001b[39m, \u001b[38;5;124m'\u001b[39m\u001b[38;5;124m'\u001b[39m)\u001b[38;5;241m.\u001b[39mlower()\n\u001b[1;32m    108\u001b[0m     \u001b[38;5;28;01mif\u001b[39;00m is_yaml(spec_url, content_type):\n",
      "File \u001b[0;32m~/miniconda3/lib/python3.11/site-packages/bravado/http_future.py:282\u001b[0m, in \u001b[0;36mHttpFuture.result\u001b[0;34m(self, timeout)\u001b[0m\n\u001b[1;32m    279\u001b[0m \u001b[38;5;28;01mif\u001b[39;00m \u001b[38;5;241m200\u001b[39m \u001b[38;5;241m<\u001b[39m\u001b[38;5;241m=\u001b[39m incoming_response\u001b[38;5;241m.\u001b[39mstatus_code \u001b[38;5;241m<\u001b[39m \u001b[38;5;241m300\u001b[39m:\n\u001b[1;32m    280\u001b[0m     \u001b[38;5;28;01mreturn\u001b[39;00m incoming_response\n\u001b[0;32m--> 282\u001b[0m \u001b[38;5;28;01mraise\u001b[39;00m make_http_exception(response\u001b[38;5;241m=\u001b[39mincoming_response)\n",
      "\u001b[0;31mHTTPNotFound\u001b[0m: 404 "
     ]
    }
   ],
   "source": [
    "%%time\n",
    "\n",
    "cbioportal = SwaggerClient.from_url('https://www.cbioportal.org/api/v2/api-docs',\n",
    "                                config={\"validate_requests\":False,\n",
    "                                        \"validate_responses\":False,\n",
    "                                        \"validate_swagger_spec\":False})\n",
    "\n",
    "mutations = cbioportal.Mutations.getMutationsInMolecularProfileBySampleListIdUsingGET(\n",
    "    molecularProfileId='chol_tcga_pan_can_atlas_2018_mutations',\n",
    "    sampleListId='chol_tcga_pan_can_atlas_2018_all',\n",
    "    projection='DETAILED'\n",
    ").result()"
   ]
  },
  {
   "cell_type": "markdown",
   "metadata": {},
   "source": [
    "Convert the results to a dataframe again:"
   ]
  },
  {
   "cell_type": "code",
   "execution_count": 30,
   "metadata": {},
   "outputs": [],
   "source": [
    "import pandas as pd\n",
    "\n",
    "mdf = pd.DataFrame.from_dict([\n",
    "    # python magic that combines two dictionaries:\n",
    "    dict(\n",
    "        {k:getattr(m,k) for k in dir(m)},\n",
    "        **{k:getattr(m.gene,k) for k in dir(m.gene)}) \n",
    "    # create one item in the list for each mutation\n",
    "    for m in mutations\n",
    "])"
   ]
  },
  {
   "cell_type": "markdown",
   "metadata": {},
   "source": [
    "Then get only the unique mutations, to avoid calling the web service with the same variants:"
   ]
  },
  {
   "cell_type": "code",
   "execution_count": 33,
   "metadata": {},
   "outputs": [],
   "source": [
    "variants = mdf['chr startPosition endPosition referenceAllele variantAllele'.split()]\\\n",
    "    .drop_duplicates()\\\n",
    "    .dropna(how='any',axis=0)\\\n",
    "    .reset_index()"
   ]
  },
  {
   "cell_type": "markdown",
   "metadata": {},
   "source": [
    "Convert them to input that genome nexus will understand:"
   ]
  },
  {
   "cell_type": "code",
   "execution_count": 35,
   "metadata": {},
   "outputs": [],
   "source": [
    "variants = variants.rename(columns={'chr':'chromosome','startPosition':'start','endPosition':'end'})\\\n",
    "    .to_dict(orient='records')\n",
    "# remove the index field\n",
    "for v in variants:\n",
    "    del v['index']"
   ]
  },
  {
   "cell_type": "code",
   "execution_count": 36,
   "metadata": {},
   "outputs": [
    {
     "name": "stdout",
     "output_type": "stream",
     "text": [
      "There are 1958 mutations left to annotate\n"
     ]
    }
   ],
   "source": [
    "print(\"There are {} mutations left to annotate\".format(len(variants)))"
   ]
  },
  {
   "cell_type": "markdown",
   "metadata": {},
   "source": [
    "Annotate them with genome nexus:"
   ]
  },
  {
   "cell_type": "code",
   "execution_count": 37,
   "metadata": {},
   "outputs": [
    {
     "name": "stdout",
     "output_type": "stream",
     "text": [
      "CPU times: user 670 ms, sys: 43 ms, total: 713 ms\n",
      "Wall time: 15 s\n"
     ]
    }
   ],
   "source": [
    "%%time \n",
    "\n",
    "variants_annotated = gn.annotation_controller.fetchVariantAnnotationByGenomicLocationPOST(\n",
    "    genomicLocations=variants,\n",
    "    fields='hotspots annotation_summary'.split()\n",
    ").result()"
   ]
  },
  {
   "cell_type": "markdown",
   "metadata": {},
   "source": [
    "Index the variants to make it easier to query them:"
   ]
  },
  {
   "cell_type": "code",
   "execution_count": 40,
   "metadata": {},
   "outputs": [],
   "source": [
    "gn_dict = {\n",
    "    \"{},{},{},{},{}\".format(\n",
    "        v.annotation_summary.genomicLocation.chromosome,\n",
    "        v.annotation_summary.genomicLocation.start,\n",
    "        v.annotation_summary.genomicLocation.end,\n",
    "        v.annotation_summary.genomicLocation.referenceAllele,\n",
    "        v.annotation_summary.genomicLocation.variantAllele)\n",
    "        :\n",
    "        v for v in variants_annotated\n",
    "}"
   ]
  },
  {
   "cell_type": "markdown",
   "metadata": {},
   "source": [
    "Add a new column to indicate whether something is a hotspot"
   ]
  },
  {
   "cell_type": "code",
   "execution_count": 45,
   "metadata": {},
   "outputs": [],
   "source": [
    "def is_hotspot(x):\n",
    "    \"\"\"TODO: Current structure for hotspots in Genome Nexus is a little funky.\n",
    "    Need to check whether all lists in the annotation field are empty.\"\"\"\n",
    "    if x:\n",
    "        return sum([len(a) for a in x.hotspots.annotation]) > 0\n",
    "    else:\n",
    "        return False\n",
    "\n",
    "def create_dict_query_key(x):\n",
    "    return \"{},{},{},{},{}\".format(\n",
    "        x.chr, x.startPosition, x.endPosition, x.referenceAllele, x.variantAllele\n",
    "    )"
   ]
  },
  {
   "cell_type": "code",
   "execution_count": 46,
   "metadata": {},
   "outputs": [],
   "source": [
    "mdf['is_hotspot'] = mdf.apply(lambda x: is_hotspot(gn_dict.get(create_dict_query_key(x), None)), axis=1)"
   ]
  },
  {
   "cell_type": "markdown",
   "metadata": {},
   "source": [
    "Then plot the results:"
   ]
  },
  {
   "cell_type": "code",
   "execution_count": 47,
   "metadata": {},
   "outputs": [],
   "source": [
    "%matplotlib inline\n",
    "import seaborn as sns\n",
    "sns.set_style(\"white\")\n",
    "sns.set_context('notebook')\n",
    "import matplotlib.pyplot as plt"
   ]
  },
  {
   "cell_type": "code",
   "execution_count": 48,
   "metadata": {},
   "outputs": [
    {
     "data": {
      "text/plain": [
       "Text(0.5, 1.0, 'Hotspots in Cholangiocarcinoma (TCGA, PanCancer Atlas)')"
      ]
     },
     "execution_count": 48,
     "metadata": {},
     "output_type": "execute_result"
    },
    {
     "data": {
      "image/png": "[encoded data removed]",
      "text/plain": [
       "<Figure size 432x288 with 1 Axes>"
      ]
     },
     "metadata": {},
     "output_type": "display_data"
    }
   ],
   "source": [
    "mdf.groupby('hugoGeneSymbol').is_hotspot.sum().sort_values(ascending=False).head(10).plot(kind='bar')\n",
    "\n",
    "sns.despine(trim=False)\n",
    "plt.xlabel('')\n",
    "plt.xticks(rotation=300)\n",
    "plt.ylabel('Number of non-unique hotspots',labelpad=20)\n",
    "plt.title('Hotspots in Cholangiocarcinoma (TCGA, PanCancer Atlas)',pad=25)"
   ]
  },
  {
   "cell_type": "markdown",
   "metadata": {},
   "source": [
    "### OncoKB API"
   ]
  },
  {
   "cell_type": "markdown",
   "metadata": {},
   "source": [
    "[OncoKB](https://oncokb.org) is is a precision oncology knowledge base and contains information about the effects and treatment implications of specific cancer gene alterations. Similarly to cBioPortal and Genome Nexus it provides a REST API following the [Swagger / OpenAPI specification](https://swagger.io/specification/)."
   ]
  },
  {
   "cell_type": "code",
   "execution_count": 2,
   "metadata": {
    "scrolled": true
   },
   "outputs": [
    {
     "name": "stdout",
     "output_type": "stream",
     "text": [
      "SwaggerClient(https://www.oncokb.org/api/v1)\n"
     ]
    }
   ],
   "source": [
    "oncokb = SwaggerClient.from_url('https://www.oncokb.org/api/v1/v2/api-docs?group=Public%20APIs',\n",
    "                            config={\"validate_requests\":False,\n",
    "                                    \"validate_responses\":False,\n",
    "                                    \"validate_swagger_spec\":False})\n",
    "print(oncokb)"
   ]
  },
  {
   "cell_type": "markdown",
   "metadata": {},
   "source": [
    "To look up annotations for a variant, one can use the following endpoint:"
   ]
  },
  {
   "cell_type": "code",
   "execution_count": 3,
   "metadata": {},
   "outputs": [
    {
     "ename": "HTTPUnauthorized",
     "evalue": "401 Unauthorized: Response specification matching http status_code 401 not found for operation Operation(annotateMutationsByGenomicChangeGetUsingGET_1). Either add a response specification for the status_code or use a `default` response.",
     "output_type": "error",
     "traceback": [
      "\u001b[0;31m---------------------------------------------------------------------------\u001b[0m",
      "\u001b[0;31mMatchingResponseNotFound\u001b[0m                  Traceback (most recent call last)",
      "File \u001b[0;32m~/miniconda3/lib/python3.11/site-packages/bravado/http_future.py:335\u001b[0m, in \u001b[0;36munmarshal_response\u001b[0;34m(incoming_response, operation, response_callbacks)\u001b[0m\n\u001b[1;32m    334\u001b[0m     raise_on_unexpected(incoming_response)\n\u001b[0;32m--> 335\u001b[0m     incoming_response\u001b[38;5;241m.\u001b[39mswagger_result \u001b[38;5;241m=\u001b[39m \u001b[43munmarshal_response_inner\u001b[49m\u001b[43m(\u001b[49m\u001b[43m  \u001b[49m\u001b[38;5;66;43;03m# type: ignore\u001b[39;49;00m\n\u001b[1;32m    336\u001b[0m \u001b[43m        \u001b[49m\u001b[43mresponse\u001b[49m\u001b[38;5;241;43m=\u001b[39;49m\u001b[43mincoming_response\u001b[49m\u001b[43m,\u001b[49m\n\u001b[1;32m    337\u001b[0m \u001b[43m        \u001b[49m\u001b[43mop\u001b[49m\u001b[38;5;241;43m=\u001b[39;49m\u001b[43moperation\u001b[49m\u001b[43m,\u001b[49m\n\u001b[1;32m    338\u001b[0m \u001b[43m    \u001b[49m\u001b[43m)\u001b[49m\n\u001b[1;32m    339\u001b[0m \u001b[38;5;28;01mexcept\u001b[39;00m MatchingResponseNotFound \u001b[38;5;28;01mas\u001b[39;00m e:\n",
      "File \u001b[0;32m~/miniconda3/lib/python3.11/site-packages/bravado/http_future.py:370\u001b[0m, in \u001b[0;36munmarshal_response_inner\u001b[0;34m(response, op)\u001b[0m\n\u001b[1;32m    369\u001b[0m deref \u001b[38;5;241m=\u001b[39m op\u001b[38;5;241m.\u001b[39mswagger_spec\u001b[38;5;241m.\u001b[39mderef\n\u001b[0;32m--> 370\u001b[0m response_spec \u001b[38;5;241m=\u001b[39m \u001b[43mget_response_spec\u001b[49m\u001b[43m(\u001b[49m\u001b[43mstatus_code\u001b[49m\u001b[38;5;241;43m=\u001b[39;49m\u001b[43mresponse\u001b[49m\u001b[38;5;241;43m.\u001b[39;49m\u001b[43mstatus_code\u001b[49m\u001b[43m,\u001b[49m\u001b[43m \u001b[49m\u001b[43mop\u001b[49m\u001b[38;5;241;43m=\u001b[39;49m\u001b[43mop\u001b[49m\u001b[43m)\u001b[49m\n\u001b[1;32m    372\u001b[0m \u001b[38;5;28;01mif\u001b[39;00m \u001b[38;5;124m'\u001b[39m\u001b[38;5;124mschema\u001b[39m\u001b[38;5;124m'\u001b[39m \u001b[38;5;129;01mnot\u001b[39;00m \u001b[38;5;129;01min\u001b[39;00m response_spec:\n",
      "File \u001b[0;32m~/miniconda3/lib/python3.11/site-packages/bravado_core/response.py:157\u001b[0m, in \u001b[0;36mget_response_spec\u001b[0;34m(status_code, op)\u001b[0m\n\u001b[1;32m    156\u001b[0m \u001b[38;5;28;01mif\u001b[39;00m response_spec \u001b[38;5;129;01mis\u001b[39;00m \u001b[38;5;28;01mNone\u001b[39;00m:\n\u001b[0;32m--> 157\u001b[0m     \u001b[38;5;28;01mraise\u001b[39;00m MatchingResponseNotFound(\n\u001b[1;32m    158\u001b[0m         \u001b[38;5;124m\"\u001b[39m\u001b[38;5;124mResponse specification matching http status_code \u001b[39m\u001b[38;5;132;01m{0}\u001b[39;00m\u001b[38;5;124m not found \u001b[39m\u001b[38;5;124m\"\u001b[39m\n\u001b[1;32m    159\u001b[0m         \u001b[38;5;124m\"\u001b[39m\u001b[38;5;124mfor operation \u001b[39m\u001b[38;5;132;01m{1}\u001b[39;00m\u001b[38;5;124m. Either add a response specification for the \u001b[39m\u001b[38;5;124m\"\u001b[39m\n\u001b[1;32m    160\u001b[0m         \u001b[38;5;124m\"\u001b[39m\u001b[38;5;124mstatus_code or use a `default` response.\u001b[39m\u001b[38;5;124m\"\u001b[39m\u001b[38;5;241m.\u001b[39mformat(status_code, op),\n\u001b[1;32m    161\u001b[0m     )\n\u001b[1;32m    162\u001b[0m \u001b[38;5;28;01mreturn\u001b[39;00m response_spec\n",
      "\u001b[0;31mMatchingResponseNotFound\u001b[0m: Response specification matching http status_code 401 not found for operation Operation(annotateMutationsByGenomicChangeGetUsingGET_1). Either add a response specification for the status_code or use a `default` response.",
      "\nDuring handling of the above exception, another exception occurred:\n",
      "\u001b[0;31mHTTPUnauthorized\u001b[0m                          Traceback (most recent call last)",
      "Cell \u001b[0;32mIn[3], line 3\u001b[0m\n\u001b[1;32m      1\u001b[0m variant \u001b[38;5;241m=\u001b[39m \u001b[43moncokb\u001b[49m\u001b[38;5;241;43m.\u001b[39;49m\u001b[43mAnnotations\u001b[49m\u001b[38;5;241;43m.\u001b[39;49m\u001b[43mannotateMutationsByGenomicChangeGetUsingGET_1\u001b[49m\u001b[43m(\u001b[49m\n\u001b[1;32m      2\u001b[0m \u001b[43m    \u001b[49m\u001b[43mgenomicLocation\u001b[49m\u001b[38;5;241;43m=\u001b[39;49m\u001b[38;5;124;43m'\u001b[39;49m\u001b[38;5;124;43m7,140453136,140453136,A,T\u001b[39;49m\u001b[38;5;124;43m'\u001b[39;49m\u001b[43m,\u001b[49m\n\u001b[0;32m----> 3\u001b[0m \u001b[43m)\u001b[49m\u001b[38;5;241;43m.\u001b[39;49m\u001b[43mresult\u001b[49m\u001b[43m(\u001b[49m\u001b[43m)\u001b[49m\n",
      "File \u001b[0;32m~/miniconda3/lib/python3.11/site-packages/bravado/http_future.py:271\u001b[0m, in \u001b[0;36mHttpFuture.result\u001b[0;34m(self, timeout)\u001b[0m\n\u001b[1;32m    260\u001b[0m \u001b[38;5;250m\u001b[39m\u001b[38;5;124;03m\"\"\"DEPRECATED: please use the `response()` method instead.\u001b[39;00m\n\u001b[1;32m    261\u001b[0m \n\u001b[1;32m    262\u001b[0m \u001b[38;5;124;03mBlocking call to wait for and return the unmarshalled swagger result.\u001b[39;00m\n\u001b[0;32m   (...)\u001b[0m\n\u001b[1;32m    268\u001b[0m \u001b[38;5;124;03m    to the constructor.\u001b[39;00m\n\u001b[1;32m    269\u001b[0m \u001b[38;5;124;03m\"\"\"\u001b[39;00m\n\u001b[1;32m    270\u001b[0m incoming_response \u001b[38;5;241m=\u001b[39m \u001b[38;5;28mself\u001b[39m\u001b[38;5;241m.\u001b[39m_get_incoming_response(timeout)\n\u001b[0;32m--> 271\u001b[0m swagger_result \u001b[38;5;241m=\u001b[39m \u001b[38;5;28;43mself\u001b[39;49m\u001b[38;5;241;43m.\u001b[39;49m\u001b[43m_get_swagger_result\u001b[49m\u001b[43m(\u001b[49m\u001b[43mincoming_response\u001b[49m\u001b[43m)\u001b[49m\n\u001b[1;32m    273\u001b[0m \u001b[38;5;28;01mif\u001b[39;00m \u001b[38;5;28mself\u001b[39m\u001b[38;5;241m.\u001b[39moperation \u001b[38;5;129;01mis\u001b[39;00m \u001b[38;5;129;01mnot\u001b[39;00m \u001b[38;5;28;01mNone\u001b[39;00m:\n\u001b[1;32m    274\u001b[0m     swagger_result \u001b[38;5;241m=\u001b[39m typing\u001b[38;5;241m.\u001b[39mcast(T, swagger_result)\n",
      "File \u001b[0;32m~/miniconda3/lib/python3.11/site-packages/bravado/http_future.py:124\u001b[0m, in \u001b[0;36mreraise_errors.<locals>.wrapper\u001b[0;34m(self, *args, **kwargs)\u001b[0m\n\u001b[1;32m    121\u001b[0m connection_errors \u001b[38;5;241m=\u001b[39m \u001b[38;5;28mtuple\u001b[39m(\u001b[38;5;28mself\u001b[39m\u001b[38;5;241m.\u001b[39mfuture\u001b[38;5;241m.\u001b[39mconnection_errors \u001b[38;5;129;01mor\u001b[39;00m ())\n\u001b[1;32m    123\u001b[0m \u001b[38;5;28;01mtry\u001b[39;00m:\n\u001b[0;32m--> 124\u001b[0m     \u001b[38;5;28;01mreturn\u001b[39;00m \u001b[43mfunc\u001b[49m\u001b[43m(\u001b[49m\u001b[38;5;28;43mself\u001b[39;49m\u001b[43m,\u001b[49m\u001b[43m \u001b[49m\u001b[38;5;241;43m*\u001b[39;49m\u001b[43margs\u001b[49m\u001b[43m,\u001b[49m\u001b[43m \u001b[49m\u001b[38;5;241;43m*\u001b[39;49m\u001b[38;5;241;43m*\u001b[39;49m\u001b[43mkwargs\u001b[49m\u001b[43m)\u001b[49m\n\u001b[1;32m    125\u001b[0m \u001b[38;5;28;01mexcept\u001b[39;00m connection_errors \u001b[38;5;28;01mas\u001b[39;00m exception:\n\u001b[1;32m    126\u001b[0m     \u001b[38;5;28mself\u001b[39m\u001b[38;5;241m.\u001b[39mfuture\u001b[38;5;241m.\u001b[39m_raise_connection_error(exception)\n",
      "File \u001b[0;32m~/miniconda3/lib/python3.11/site-packages/bravado/http_future.py:300\u001b[0m, in \u001b[0;36mHttpFuture._get_swagger_result\u001b[0;34m(self, incoming_response)\u001b[0m\n\u001b[1;32m    298\u001b[0m swagger_result \u001b[38;5;241m=\u001b[39m \u001b[38;5;28;01mNone\u001b[39;00m\n\u001b[1;32m    299\u001b[0m \u001b[38;5;28;01mif\u001b[39;00m \u001b[38;5;28mself\u001b[39m\u001b[38;5;241m.\u001b[39moperation \u001b[38;5;129;01mis\u001b[39;00m \u001b[38;5;129;01mnot\u001b[39;00m \u001b[38;5;28;01mNone\u001b[39;00m:\n\u001b[0;32m--> 300\u001b[0m     \u001b[43munmarshal_response\u001b[49m\u001b[43m(\u001b[49m\n\u001b[1;32m    301\u001b[0m \u001b[43m        \u001b[49m\u001b[43mincoming_response\u001b[49m\u001b[43m,\u001b[49m\n\u001b[1;32m    302\u001b[0m \u001b[43m        \u001b[49m\u001b[38;5;28;43mself\u001b[39;49m\u001b[38;5;241;43m.\u001b[39;49m\u001b[43moperation\u001b[49m\u001b[43m,\u001b[49m\n\u001b[1;32m    303\u001b[0m \u001b[43m        \u001b[49m\u001b[38;5;28;43mself\u001b[39;49m\u001b[38;5;241;43m.\u001b[39;49m\u001b[43mrequest_config\u001b[49m\u001b[38;5;241;43m.\u001b[39;49m\u001b[43mresponse_callbacks\u001b[49m\u001b[43m,\u001b[49m\n\u001b[1;32m    304\u001b[0m \u001b[43m    \u001b[49m\u001b[43m)\u001b[49m\n\u001b[1;32m    305\u001b[0m     swagger_result \u001b[38;5;241m=\u001b[39m typing\u001b[38;5;241m.\u001b[39mcast(T, incoming_response\u001b[38;5;241m.\u001b[39mswagger_result)\n\u001b[1;32m    307\u001b[0m \u001b[38;5;28;01mreturn\u001b[39;00m swagger_result\n",
      "File \u001b[0;32m~/miniconda3/lib/python3.11/site-packages/bravado/http_future.py:344\u001b[0m, in \u001b[0;36munmarshal_response\u001b[0;34m(incoming_response, operation, response_callbacks)\u001b[0m\n\u001b[1;32m    339\u001b[0m \u001b[38;5;28;01mexcept\u001b[39;00m MatchingResponseNotFound \u001b[38;5;28;01mas\u001b[39;00m e:\n\u001b[1;32m    340\u001b[0m     exception \u001b[38;5;241m=\u001b[39m make_http_exception(\n\u001b[1;32m    341\u001b[0m         response\u001b[38;5;241m=\u001b[39mincoming_response,\n\u001b[1;32m    342\u001b[0m         message\u001b[38;5;241m=\u001b[39m\u001b[38;5;28mstr\u001b[39m(e)\n\u001b[1;32m    343\u001b[0m     )\n\u001b[0;32m--> 344\u001b[0m     \u001b[43msix\u001b[49m\u001b[38;5;241;43m.\u001b[39;49m\u001b[43mreraise\u001b[49m\u001b[43m(\u001b[49m\n\u001b[1;32m    345\u001b[0m \u001b[43m        \u001b[49m\u001b[38;5;28;43mtype\u001b[39;49m\u001b[43m(\u001b[49m\u001b[43mexception\u001b[49m\u001b[43m)\u001b[49m\u001b[43m,\u001b[49m\n\u001b[1;32m    346\u001b[0m \u001b[43m        \u001b[49m\u001b[43mexception\u001b[49m\u001b[43m,\u001b[49m\n\u001b[1;32m    347\u001b[0m \u001b[43m        \u001b[49m\u001b[43msys\u001b[49m\u001b[38;5;241;43m.\u001b[39;49m\u001b[43mexc_info\u001b[49m\u001b[43m(\u001b[49m\u001b[43m)\u001b[49m\u001b[43m[\u001b[49m\u001b[38;5;241;43m2\u001b[39;49m\u001b[43m]\u001b[49m\u001b[43m)\u001b[49m\n\u001b[1;32m    348\u001b[0m \u001b[38;5;28;01mfinally\u001b[39;00m:\n\u001b[1;32m    349\u001b[0m     \u001b[38;5;66;03m# Always run the callbacks regardless of success/failure\u001b[39;00m\n\u001b[1;32m    350\u001b[0m     \u001b[38;5;28;01mfor\u001b[39;00m response_callback \u001b[38;5;129;01min\u001b[39;00m response_callbacks:\n",
      "File \u001b[0;32m~/miniconda3/lib/python3.11/site-packages/six.py:718\u001b[0m, in \u001b[0;36mreraise\u001b[0;34m(tp, value, tb)\u001b[0m\n\u001b[1;32m    716\u001b[0m         value \u001b[38;5;241m=\u001b[39m tp()\n\u001b[1;32m    717\u001b[0m     \u001b[38;5;28;01mif\u001b[39;00m value\u001b[38;5;241m.\u001b[39m__traceback__ \u001b[38;5;129;01mis\u001b[39;00m \u001b[38;5;129;01mnot\u001b[39;00m tb:\n\u001b[0;32m--> 718\u001b[0m         \u001b[38;5;28;01mraise\u001b[39;00m value\u001b[38;5;241m.\u001b[39mwith_traceback(tb)\n\u001b[1;32m    719\u001b[0m     \u001b[38;5;28;01mraise\u001b[39;00m value\n\u001b[1;32m    720\u001b[0m \u001b[38;5;28;01mfinally\u001b[39;00m:\n",
      "File \u001b[0;32m~/miniconda3/lib/python3.11/site-packages/bravado/http_future.py:335\u001b[0m, in \u001b[0;36munmarshal_response\u001b[0;34m(incoming_response, operation, response_callbacks)\u001b[0m\n\u001b[1;32m    333\u001b[0m \u001b[38;5;28;01mtry\u001b[39;00m:\n\u001b[1;32m    334\u001b[0m     raise_on_unexpected(incoming_response)\n\u001b[0;32m--> 335\u001b[0m     incoming_response\u001b[38;5;241m.\u001b[39mswagger_result \u001b[38;5;241m=\u001b[39m \u001b[43munmarshal_response_inner\u001b[49m\u001b[43m(\u001b[49m\u001b[43m  \u001b[49m\u001b[38;5;66;43;03m# type: ignore\u001b[39;49;00m\n\u001b[1;32m    336\u001b[0m \u001b[43m        \u001b[49m\u001b[43mresponse\u001b[49m\u001b[38;5;241;43m=\u001b[39;49m\u001b[43mincoming_response\u001b[49m\u001b[43m,\u001b[49m\n\u001b[1;32m    337\u001b[0m \u001b[43m        \u001b[49m\u001b[43mop\u001b[49m\u001b[38;5;241;43m=\u001b[39;49m\u001b[43moperation\u001b[49m\u001b[43m,\u001b[49m\n\u001b[1;32m    338\u001b[0m \u001b[43m    \u001b[49m\u001b[43m)\u001b[49m\n\u001b[1;32m    339\u001b[0m \u001b[38;5;28;01mexcept\u001b[39;00m MatchingResponseNotFound \u001b[38;5;28;01mas\u001b[39;00m e:\n\u001b[1;32m    340\u001b[0m     exception \u001b[38;5;241m=\u001b[39m make_http_exception(\n\u001b[1;32m    341\u001b[0m         response\u001b[38;5;241m=\u001b[39mincoming_response,\n\u001b[1;32m    342\u001b[0m         message\u001b[38;5;241m=\u001b[39m\u001b[38;5;28mstr\u001b[39m(e)\n\u001b[1;32m    343\u001b[0m     )\n",
      "File \u001b[0;32m~/miniconda3/lib/python3.11/site-packages/bravado/http_future.py:370\u001b[0m, in \u001b[0;36munmarshal_response_inner\u001b[0;34m(response, op)\u001b[0m\n\u001b[1;32m    361\u001b[0m \u001b[38;5;250m\u001b[39m\u001b[38;5;124;03m\"\"\"\u001b[39;00m\n\u001b[1;32m    362\u001b[0m \u001b[38;5;124;03mUnmarshal incoming http response into a value based on the\u001b[39;00m\n\u001b[1;32m    363\u001b[0m \u001b[38;5;124;03mresponse specification.\u001b[39;00m\n\u001b[0;32m   (...)\u001b[0m\n\u001b[1;32m    367\u001b[0m \u001b[38;5;124;03m    if it exists, None otherwise.\u001b[39;00m\n\u001b[1;32m    368\u001b[0m \u001b[38;5;124;03m\"\"\"\u001b[39;00m\n\u001b[1;32m    369\u001b[0m deref \u001b[38;5;241m=\u001b[39m op\u001b[38;5;241m.\u001b[39mswagger_spec\u001b[38;5;241m.\u001b[39mderef\n\u001b[0;32m--> 370\u001b[0m response_spec \u001b[38;5;241m=\u001b[39m \u001b[43mget_response_spec\u001b[49m\u001b[43m(\u001b[49m\u001b[43mstatus_code\u001b[49m\u001b[38;5;241;43m=\u001b[39;49m\u001b[43mresponse\u001b[49m\u001b[38;5;241;43m.\u001b[39;49m\u001b[43mstatus_code\u001b[49m\u001b[43m,\u001b[49m\u001b[43m \u001b[49m\u001b[43mop\u001b[49m\u001b[38;5;241;43m=\u001b[39;49m\u001b[43mop\u001b[49m\u001b[43m)\u001b[49m\n\u001b[1;32m    372\u001b[0m \u001b[38;5;28;01mif\u001b[39;00m \u001b[38;5;124m'\u001b[39m\u001b[38;5;124mschema\u001b[39m\u001b[38;5;124m'\u001b[39m \u001b[38;5;129;01mnot\u001b[39;00m \u001b[38;5;129;01min\u001b[39;00m response_spec:\n\u001b[1;32m    373\u001b[0m     \u001b[38;5;28;01mreturn\u001b[39;00m \u001b[38;5;28;01mNone\u001b[39;00m\n",
      "File \u001b[0;32m~/miniconda3/lib/python3.11/site-packages/bravado_core/response.py:157\u001b[0m, in \u001b[0;36mget_response_spec\u001b[0;34m(status_code, op)\u001b[0m\n\u001b[1;32m    152\u001b[0m response_spec \u001b[38;5;241m=\u001b[39m deref(\n\u001b[1;32m    153\u001b[0m     response_specs\u001b[38;5;241m.\u001b[39mget(\u001b[38;5;28mstr\u001b[39m(status_code), default_response_spec),\n\u001b[1;32m    154\u001b[0m )\n\u001b[1;32m    156\u001b[0m \u001b[38;5;28;01mif\u001b[39;00m response_spec \u001b[38;5;129;01mis\u001b[39;00m \u001b[38;5;28;01mNone\u001b[39;00m:\n\u001b[0;32m--> 157\u001b[0m     \u001b[38;5;28;01mraise\u001b[39;00m MatchingResponseNotFound(\n\u001b[1;32m    158\u001b[0m         \u001b[38;5;124m\"\u001b[39m\u001b[38;5;124mResponse specification matching http status_code \u001b[39m\u001b[38;5;132;01m{0}\u001b[39;00m\u001b[38;5;124m not found \u001b[39m\u001b[38;5;124m\"\u001b[39m\n\u001b[1;32m    159\u001b[0m         \u001b[38;5;124m\"\u001b[39m\u001b[38;5;124mfor operation \u001b[39m\u001b[38;5;132;01m{1}\u001b[39;00m\u001b[38;5;124m. Either add a response specification for the \u001b[39m\u001b[38;5;124m\"\u001b[39m\n\u001b[1;32m    160\u001b[0m         \u001b[38;5;124m\"\u001b[39m\u001b[38;5;124mstatus_code or use a `default` response.\u001b[39m\u001b[38;5;124m\"\u001b[39m\u001b[38;5;241m.\u001b[39mformat(status_code, op),\n\u001b[1;32m    161\u001b[0m     )\n\u001b[1;32m    162\u001b[0m \u001b[38;5;28;01mreturn\u001b[39;00m response_spec\n",
      "\u001b[0;31mHTTPUnauthorized\u001b[0m: 401 Unauthorized: Response specification matching http status_code 401 not found for operation Operation(annotateMutationsByGenomicChangeGetUsingGET_1). Either add a response specification for the status_code or use a `default` response."
     ]
    }
   ],
   "source": [
    "variant = oncokb.Annotations.\n",
    "    genomicLocation='7,140453136,140453136,A,T',\n",
    ").result()"
   ]
  },
  {
   "cell_type": "markdown",
   "metadata": {},
   "source": [
    "You can see a lot of information is provided for that particular variant if you type tab after `variant.`:"
   ]
  },
  {
   "cell_type": "code",
   "execution_count": 16,
   "metadata": {},
   "outputs": [
    {
     "data": {
      "text/plain": [
       "'The BRAF V600E mutation is known to be oncogenic.'"
      ]
     },
     "execution_count": 16,
     "metadata": {},
     "output_type": "execute_result"
    }
   ],
   "source": [
    "variant."
   ]
  },
  {
   "cell_type": "markdown",
   "metadata": {},
   "source": [
    "For instance we can see the summary information about it:"
   ]
  },
  {
   "cell_type": "code",
   "execution_count": 17,
   "metadata": {},
   "outputs": [
    {
     "data": {
      "text/plain": [
       "'The BRAF V600E mutation is known to be oncogenic.'"
      ]
     },
     "execution_count": 17,
     "metadata": {},
     "output_type": "execute_result"
    }
   ],
   "source": [
    "variant.variantSummary"
   ]
  },
  {
   "cell_type": "markdown",
   "metadata": {},
   "source": [
    "If you look up this variant on the OncoKB website: https://www.oncokb.org/gene/BRAF/V600E. You can see that there are various combinations of drugs and their level of evidence listed. This is a classification system for indicating how much we know about whether or not a patient might respond to a particular treatment. Please see https://www.oncokb.org/levels for more information about the levels of evidence for therapeutic biomarkers.\n",
    "\n",
    "We can use the same `variants` we pulled from cBioPortal in the previous section to figure out the highest level of each variant."
   ]
  },
  {
   "cell_type": "code",
   "execution_count": 34,
   "metadata": {},
   "outputs": [
    {
     "name": "stdout",
     "output_type": "stream",
     "text": [
      "CPU times: user 363 ms, sys: 16.4 ms, total: 379 ms\n",
      "Wall time: 9.89 s\n"
     ]
    }
   ],
   "source": [
    "%%time \n",
    "\n",
    "variants_annotated = oncokb.Annotations.annotateMutationsByGenomicChangePostUsingPOST(\n",
    "    body=[\n",
    "        {\"genomicLocation\":\"{chromosome},{start},{end},{referenceAllele},{variantAllele}\".format(**v)} \n",
    "        for v in variants\n",
    "    ],\n",
    ").result()"
   ]
  },
  {
   "cell_type": "markdown",
   "metadata": {},
   "source": [
    "Count the highes level for each variant"
   ]
  },
  {
   "cell_type": "code",
   "execution_count": 63,
   "metadata": {},
   "outputs": [],
   "source": [
    "from collections import Counter\n",
    "\n",
    "counts_per_level = Counter([va.highestSensitiveLevel for va in variants_annotated if va.highestSensitiveLevel])"
   ]
  },
  {
   "cell_type": "markdown",
   "metadata": {},
   "source": [
    "Then plot them"
   ]
  },
  {
   "cell_type": "code",
   "execution_count": 82,
   "metadata": {},
   "outputs": [
    {
     "data": {
      "image/png": "[encoded data removed]",
      "text/plain": [
       "<Figure size 432x288 with 1 Axes>"
      ]
     },
     "metadata": {},
     "output_type": "display_data"
    }
   ],
   "source": [
    "pd.DataFrame(counts_per_level,index=[0]).plot(kind='bar', colors=['#4D8834','#2E2E2C','#753579'])\n",
    "plt.xticks([])\n",
    "plt.ylabel('Number of variants')\n",
    "plt.title('Actionable variants in chol_tcga_pan_can_atlas_2018')\n",
    "sns.despine()"
   ]
  },
  {
   "cell_type": "markdown",
   "metadata": {},
   "source": [
    "The current plot could be more useful. See the idea listed here for one example of how to improve it: https://github.com/mskcc/cbsp-hackathon/tree/master/1-ideas/annotate-oncokb-barchart."
   ]
  }
 ],
 "metadata": {
  "kernelspec": {
   "display_name": "Python 3 (ipykernel)",
   "language": "python",
   "name": "python3"
  },
  "language_info": {
   "codemirror_mode": {
    "name": "ipython",
    "version": 3
   },
   "file_extension": ".py",
   "mimetype": "text/x-python",
   "name": "python",
   "nbconvert_exporter": "python",
   "pygments_lexer": "ipython3",
   "version": "3.11.4"
  }
 },
 "nbformat": 4,
 "nbformat_minor": 2
}
